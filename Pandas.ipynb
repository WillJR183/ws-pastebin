{
 "cells": [
  {
   "cell_type": "markdown",
   "id": "54137d0f",
   "metadata": {},
   "source": [
    "## Bibliotecas Necessárias"
   ]
  },
  {
   "cell_type": "code",
   "execution_count": null,
   "id": "6d4fed89",
   "metadata": {},
   "outputs": [],
   "source": [
    "import numpy as np\n",
    "import pandas as pd\n",
    "import seaborn as sns\n",
    "\n",
    "from sklearn.cluster import KMeans\n",
    "from matplotlib import pyplot as plt\n",
    "from sklearn.preprocessing import OrdinalEncoder"
   ]
  },
  {
   "cell_type": "markdown",
   "id": "e154d390",
   "metadata": {},
   "source": [
    "## Leitura , Visualização e Tratamentos dos Dados"
   ]
  },
  {
   "cell_type": "markdown",
   "id": "bd4ffa06",
   "metadata": {},
   "source": [
    "### Carregar os Dados em um DataFrame do Pandas"
   ]
  },
  {
   "cell_type": "code",
   "execution_count": null,
   "id": "79d85e40",
   "metadata": {},
   "outputs": [],
   "source": [
    "df = pd.read_csv('data_scraping.csv')\n",
    "df"
   ]
  },
  {
   "cell_type": "markdown",
   "id": "3e23b4d9",
   "metadata": {},
   "source": [
    "### Selecionar as Colunas Desejadas para Análise e Modelagem"
   ]
  },
  {
   "cell_type": "code",
   "execution_count": null,
   "id": "1ab82078",
   "metadata": {},
   "outputs": [],
   "source": [
    "df_select = df.loc[: , 'word_count':'syntax']\n",
    "df_select"
   ]
  },
  {
   "cell_type": "markdown",
   "id": "6cf9cec2",
   "metadata": {},
   "source": [
    "### Renomear as Colunas para Melhorar a Compreensão"
   ]
  },
  {
   "cell_type": "code",
   "execution_count": null,
   "id": "88ed82d2",
   "metadata": {},
   "outputs": [],
   "source": [
    "df_select = df_select.rename(columns={'word_count' : 'word count', 'word_diff_count' : 'different words'})\n",
    "df_select"
   ]
  },
  {
   "cell_type": "markdown",
   "id": "877844b7",
   "metadata": {},
   "source": [
    "### Identificar Outliers - Abordagem exploratória"
   ]
  },
  {
   "cell_type": "code",
   "execution_count": null,
   "id": "aba76d7f",
   "metadata": {},
   "outputs": [],
   "source": [
    "sns.boxplot(df_select['word count'])"
   ]
  },
  {
   "cell_type": "markdown",
   "id": "4f08072d",
   "metadata": {},
   "source": [
    "### Capturar a Posição e Visualizar os Outliers"
   ]
  },
  {
   "cell_type": "code",
   "execution_count": null,
   "id": "46d70226",
   "metadata": {},
   "outputs": [],
   "source": [
    "ol_word_count = np.where(df_select['word count'] > 6000) # posição\n",
    "\n",
    "print(ol_word_count[0])"
   ]
  },
  {
   "cell_type": "markdown",
   "id": "d94505cc",
   "metadata": {},
   "source": [
    "### Tratar Outliers (Remoção)"
   ]
  },
  {
   "cell_type": "code",
   "execution_count": null,
   "id": "a20fae77",
   "metadata": {},
   "outputs": [],
   "source": [
    "df_select.drop(ol_word_count[0], inplace = True)\n",
    "\n",
    "sns.boxplot(df_select['word count']) # gráfico"
   ]
  },
  {
   "cell_type": "markdown",
   "id": "bfba3377",
   "metadata": {},
   "source": [
    "### Aplicar Transformação Categórica na Coluna 'syntax'"
   ]
  },
  {
   "cell_type": "code",
   "execution_count": null,
   "id": "640ef69b",
   "metadata": {},
   "outputs": [],
   "source": [
    "df_select['syntax'] = df_select['syntax'].astype('category') \n",
    "df_select.dtypes"
   ]
  },
  {
   "cell_type": "markdown",
   "id": "5ebe0989",
   "metadata": {},
   "source": [
    "### Dicionário para Armazenar as Variáveis da coluna 'syntax'"
   ]
  },
  {
   "cell_type": "code",
   "execution_count": null,
   "id": "180964fc",
   "metadata": {},
   "outputs": [],
   "source": [
    "dict_syntax = dict(enumerate(df_select['syntax'].cat.categories)) \n",
    "dict_syntax"
   ]
  },
  {
   "cell_type": "markdown",
   "id": "8a30d4fc",
   "metadata": {},
   "source": [
    "### Codificação da Coluna 'syntax' para Abordagem de Aprendizado Supervisionado"
   ]
  },
  {
   "cell_type": "code",
   "execution_count": null,
   "id": "9f658266",
   "metadata": {
    "scrolled": true
   },
   "outputs": [],
   "source": [
    "df_select['syntax'] = df_select['syntax'].cat.codes # CODIFICAR A COLUNA SYNTAX (PADRÃO -> CAT - NUM)\n",
    "df_select"
   ]
  },
  {
   "cell_type": "markdown",
   "id": "ddcce5c5",
   "metadata": {},
   "source": [
    "### Revertendo a Codificação - *Obs: Coluna Volta a Ser do Tipo Object*"
   ]
  },
  {
   "cell_type": "code",
   "execution_count": null,
   "id": "3f1d79fa",
   "metadata": {},
   "outputs": [],
   "source": [
    "df_select['syntax'] = df_select['syntax'].map(dict_syntax) \n",
    "df_select"
   ]
  },
  {
   "cell_type": "markdown",
   "id": "0fefa607",
   "metadata": {},
   "source": [
    "### Outra Forma de Aplicar a Codificação Categórica aos Atributos "
   ]
  },
  {
   "cell_type": "code",
   "execution_count": null,
   "id": "25e39564",
   "metadata": {},
   "outputs": [],
   "source": [
    "oe = OrdinalEncoder()\n",
    "\n",
    "df_select['syntax_code'] = oe.fit_transform(df_select[['syntax']])\n",
    "df_select[['syntax', 'syntax_code']].head(10)"
   ]
  },
  {
   "cell_type": "markdown",
   "id": "8ea9476d",
   "metadata": {},
   "source": [
    "## Modelos de ML e Resultados"
   ]
  },
  {
   "cell_type": "markdown",
   "id": "c5ebf4c9",
   "metadata": {},
   "source": [
    "### Aprendizado Não Supervisionado - Cluster K-Means"
   ]
  },
  {
   "cell_type": "code",
   "execution_count": null,
   "id": "12eafd57",
   "metadata": {},
   "outputs": [],
   "source": [
    "km = KMeans(n_clusters = 2, init = 'random', n_init = 10, max_iter = 300, tol = 1e-4, random_state = 0)\n",
    "\n",
    "y_predicted = km.fit_predict(df_select[['word count','different words']])\n",
    "\n",
    "y_predicted"
   ]
  },
  {
   "cell_type": "code",
   "execution_count": null,
   "id": "720c3140",
   "metadata": {},
   "outputs": [],
   "source": [
    "df_select['cluster'] = y_predicted\n",
    "\n",
    "df_select.head(10)"
   ]
  },
  {
   "cell_type": "code",
   "execution_count": null,
   "id": "26df6de6",
   "metadata": {},
   "outputs": [],
   "source": [
    "df_c1 = df_select[df_select.cluster == 0]\n",
    "df_c2 = df_select[df_select.cluster == 1]\n",
    "\n",
    "plt.scatter(df_c1['word count'],\n",
    "            df_c1['different words'],\n",
    "            s = 50, c = 'blue', marker = 's',\n",
    "            edgecolor = 'black', label = 'cluster-1')\n",
    "\n",
    "plt.scatter(df_c2['word count'],\n",
    "            df_c2['different words'],\n",
    "            s = 50, c = 'red', marker = 'o',\n",
    "            edgecolor = 'black', label = 'cluster-2')\n",
    "\n",
    "plt.scatter(\n",
    "    km.cluster_centers_[:, 0], km.cluster_centers_[:, 1],\n",
    "    s=250, marker='*',\n",
    "    c='black', edgecolor='white',\n",
    "    label='centroids'\n",
    ")\n",
    "\n",
    "plt.xlabel('Word Count')\n",
    "plt.ylabel('Different Words')\n",
    "plt.grid()\n",
    "plt.legend(scatterpoints=1)\n",
    "plt.show()"
   ]
  },
  {
   "cell_type": "code",
   "execution_count": null,
   "id": "27909c94",
   "metadata": {},
   "outputs": [],
   "source": [
    "distortions = []\n",
    "\n",
    "for i in range(1, 10):\n",
    "    km = KMeans(n_clusters = i, init = 'random', n_init = 10, max_iter = 300, tol = 1e-4,\n",
    "                random_state = 0)\n",
    "    \n",
    "    km.fit(df_select[['word count','different words']])\n",
    "    distortions.append(km.inertia_)\n",
    "\n",
    "plt.plot(range(1, 10), distortions, marker='o')\n",
    "plt.xlabel('Number of clusters')\n",
    "plt.ylabel('Distortion')\n",
    "plt.show()"
   ]
  },
  {
   "cell_type": "code",
   "execution_count": null,
   "id": "04a987ed",
   "metadata": {},
   "outputs": [],
   "source": [
    "sns.relplot(x='word count', y='different words', hue='syntax', style='cluster', data=df_select)"
   ]
  }
 ],
 "metadata": {
  "kernelspec": {
   "display_name": "Python 3 (ipykernel)",
   "language": "python",
   "name": "python3"
  },
  "language_info": {
   "codemirror_mode": {
    "name": "ipython",
    "version": 3
   },
   "file_extension": ".py",
   "mimetype": "text/x-python",
   "name": "python",
   "nbconvert_exporter": "python",
   "pygments_lexer": "ipython3",
   "version": "3.8.13"
  }
 },
 "nbformat": 4,
 "nbformat_minor": 5
}
