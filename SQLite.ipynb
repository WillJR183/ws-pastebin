{
 "cells": [
  {
   "cell_type": "markdown",
   "id": "ab9143eb",
   "metadata": {},
   "source": [
    "## Bibliotecas Necessárias"
   ]
  },
  {
   "cell_type": "code",
   "execution_count": 1,
   "id": "5c1efe83",
   "metadata": {},
   "outputs": [],
   "source": [
    "import sqlite3"
   ]
  },
  {
   "cell_type": "markdown",
   "id": "a220579e",
   "metadata": {},
   "source": [
    "## Script de Criação da Tabela e DB"
   ]
  },
  {
   "cell_type": "code",
   "execution_count": 47,
   "id": "ceb4a5fb",
   "metadata": {},
   "outputs": [],
   "source": [
    "# CRIA CONEXÃO COM O BANCO DE DADOS SQLite3 EXISTENTE, CASO NÃO EXISTA, CRIA UM NOVO DB\n",
    "\n",
    "def create_connection(db_file):\n",
    "    conn = None\n",
    "    try:\n",
    "        conn = sqlite3.connect(db_file)\n",
    "    except Exception as e:\n",
    "        print(e)\n",
    "    return conn\n",
    "\n",
    "conn = create_connection('scraping.db')\n",
    "\n",
    "try:\n",
    "    cur = conn.cursor()\n",
    "    cur.execute('''CREATE TABLE IF NOT EXISTS pastebin \n",
    "                (id INTEGER NOT NULL PRIMARY KEY AUTOINCREMENT,\n",
    "                page_link TEXT NOT NULL, word_count INT NOT NULL,\n",
    "                word_diff_count INT NOT NULL, syntax TEXT NOT NULL,\n",
    "                pickup_time TEXT NOT NULL);''')\n",
    "    conn.commit()\n",
    "except sqlite3.DatabaseError as e:\n",
    "    conn.rollback()\n",
    "    raise e\n",
    "finally:\n",
    "    conn.close()"
   ]
  },
  {
   "cell_type": "markdown",
   "id": "532628ba",
   "metadata": {},
   "source": [
    "## Visualizando os Dados da Tabela"
   ]
  },
  {
   "cell_type": "code",
   "execution_count": 2,
   "id": "a972e44c",
   "metadata": {},
   "outputs": [],
   "source": [
    "# SELECIONA OS 'N' PRIMEIROS REGISTROS DA TABELA\n",
    "\n",
    "def select_head(conn, table, n=5):\n",
    "    cur = conn.cursor()\n",
    "    try:\n",
    "        cur.execute(f'SELECT * FROM {table} LIMIT {n}')\n",
    "    except sqlite3.DatabaseError as e:\n",
    "        print(e)\n",
    "    rows = cur.fetchall()\n",
    "    for row in rows:\n",
    "        print(row)"
   ]
  },
  {
   "cell_type": "code",
   "execution_count": 11,
   "id": "38146d01",
   "metadata": {
    "scrolled": true
   },
   "outputs": [
    {
     "name": "stdout",
     "output_type": "stream",
     "text": [
      "(1, 'https://pastebin.com/GhXcvGiJ', 8366, 609, 'Python', '2022-06-17 01:53:04')\n",
      "(2, 'https://pastebin.com/gKUymEWP', 2893, 516, 'Python', '2022-06-17 01:53:06')\n",
      "(3, 'https://pastebin.com/nVmcbXPZ', 8499, 698, 'Python', '2022-06-17 01:53:08')\n",
      "(4, 'https://pastebin.com/8ZHLNL3r', 2374, 493, 'Python', '2022-06-17 01:53:09')\n",
      "(5, 'https://pastebin.com/A4PychBN', 2498, 494, 'Python', '2022-06-17 01:53:10')\n",
      "(6, 'https://pastebin.com/Vy4zRFDg', 2775, 484, 'Python', '2022-06-17 01:53:12')\n",
      "(7, 'https://pastebin.com/pmJgeT2x', 2276, 471, 'Python', '2022-06-17 01:53:13')\n",
      "(8, 'https://pastebin.com/w263dtGx', 2336, 478, 'Python', '2022-06-17 01:53:14')\n",
      "(9, 'https://pastebin.com/5zq9KAPK', 2594, 500, 'Python', '2022-06-17 01:53:15')\n",
      "(10, 'https://pastebin.com/46pAxJuV', 2106, 486, 'Python', '2022-06-17 01:53:17')\n"
     ]
    }
   ],
   "source": [
    "conn = create_connection('scraping.db')\n",
    "\n",
    "select_head(conn, 'pastebin', n = 10) # N = x (opcional)\n",
    "\n",
    "conn.close()"
   ]
  },
  {
   "cell_type": "markdown",
   "id": "e8a58821",
   "metadata": {},
   "source": [
    "## Testando Obter os Dados da Tabela do DB"
   ]
  },
  {
   "cell_type": "code",
   "execution_count": 12,
   "id": "b7202a00",
   "metadata": {},
   "outputs": [],
   "source": [
    "# OBTENDO DADOS DA BASE DE DADOS\n",
    "\n",
    "def get_data(conn, table):\n",
    "    cur = conn.cursor()\n",
    "    try:\n",
    "        cur.execute(f'SELECT * FROM {table}')\n",
    "    except sqlite3.DatabaseError as e:\n",
    "        print(e)\n",
    "    rows = cur.fetchall()\n",
    "    return rows"
   ]
  },
  {
   "cell_type": "code",
   "execution_count": 27,
   "id": "e09d8ae9",
   "metadata": {},
   "outputs": [],
   "source": [
    "conn = create_connection('scraping.db')\n",
    "\n",
    "data = get_data(conn, 'pastebin')\n",
    "\n",
    "conn.close()"
   ]
  },
  {
   "cell_type": "code",
   "execution_count": 28,
   "id": "1271566d",
   "metadata": {},
   "outputs": [
    {
     "data": {
      "text/plain": [
       "list"
      ]
     },
     "execution_count": 28,
     "metadata": {},
     "output_type": "execute_result"
    }
   ],
   "source": [
    "type(data)"
   ]
  },
  {
   "cell_type": "code",
   "execution_count": 29,
   "id": "7efb5145",
   "metadata": {},
   "outputs": [
    {
     "name": "stdout",
     "output_type": "stream",
     "text": [
      "[(1, 'https://pastebin.com/GhXcvGiJ', 8366, 609, 'Python', '2022-06-17 01:53:04'), (2, 'https://pastebin.com/gKUymEWP', 2893, 516, 'Python', '2022-06-17 01:53:06'), (3, 'https://pastebin.com/nVmcbXPZ', 8499, 698, 'Python', '2022-06-17 01:53:08'), (4, 'https://pastebin.com/8ZHLNL3r', 2374, 493, 'Python', '2022-06-17 01:53:09'), (5, 'https://pastebin.com/A4PychBN', 2498, 494, 'Python', '2022-06-17 01:53:10'), (6, 'https://pastebin.com/Vy4zRFDg', 2775, 484, 'Python', '2022-06-17 01:53:12'), (7, 'https://pastebin.com/pmJgeT2x', 2276, 471, 'Python', '2022-06-17 01:53:13'), (8, 'https://pastebin.com/w263dtGx', 2336, 478, 'Python', '2022-06-17 01:53:14'), (9, 'https://pastebin.com/5zq9KAPK', 2594, 500, 'Python', '2022-06-17 01:53:15'), (10, 'https://pastebin.com/46pAxJuV', 2106, 486, 'Python', '2022-06-17 01:53:17'), (11, 'https://pastebin.com/8j17Vn8p', 2159, 499, 'Python', '2022-06-17 01:53:18'), (12, 'https://pastebin.com/04DFuCL2', 3408, 519, 'Python', '2022-06-17 01:53:19'), (13, 'https://pastebin.com/VFWVJjLC', 3378, 498, 'Python', '2022-06-17 01:53:20'), (14, 'https://pastebin.com/QSJ99MND', 3712, 501, 'Python', '2022-06-17 01:53:22'), (15, 'https://pastebin.com/VebP3nRE', 2364, 506, 'Python', '2022-06-17 01:53:23'), (16, 'https://pastebin.com/hcxW1nRR', 2505, 504, 'Python', '2022-06-17 01:53:24'), (17, 'https://pastebin.com/H5vf3KKd', 2166, 485, 'Python', '2022-06-17 01:53:25'), (18, 'https://pastebin.com/CEYzZgqB', 1758, 469, 'Python', '2022-06-17 01:53:27'), (19, 'https://pastebin.com/nXex1VDJ', 4077, 595, 'Python', '2022-06-17 01:53:28'), (20, 'https://pastebin.com/eYV22Qn5', 4084, 598, 'Python', '2022-06-17 01:53:30'), (21, 'https://pastebin.com/yVpvV09u', 2319, 474, 'Python', '2022-06-17 01:53:31'), (22, 'https://pastebin.com/G9fabRHf', 2689, 511, 'Python', '2022-06-17 01:53:32'), (23, 'https://pastebin.com/7ThQkCpn', 3551, 508, 'Python', '2022-06-17 01:53:33'), (24, 'https://pastebin.com/569gf8BM', 2532, 476, 'Python', '2022-06-17 01:53:35'), (25, 'https://pastebin.com/QJcBbkiJ', 2339, 487, 'Python', '2022-06-17 01:53:36'), (26, 'https://pastebin.com/xJD4pDAk', 2897, 491, 'Python', '2022-06-17 01:53:37'), (27, 'https://pastebin.com/bUKJWXZL', 4779, 560, 'Python', '2022-06-17 01:53:38'), (28, 'https://pastebin.com/CPzEqPvc', 8571, 586, 'Python', '2022-06-17 01:53:40'), (29, 'https://pastebin.com/HKVUh054', 15869, 932, 'Python', '2022-06-17 01:53:41'), (30, 'https://pastebin.com/1fENZ7wR', 2489, 513, 'Python', '2022-06-17 01:53:42'), (31, 'https://pastebin.com/hhtMer9J', 4114, 597, 'Python', '2022-06-17 01:53:44'), (32, 'https://pastebin.com/iE7WgDc8', 2306, 492, 'Python', '2022-06-17 01:53:45'), (33, 'https://pastebin.com/J0gXBjs8', 2005, 470, 'Python', '2022-06-17 01:53:46'), (34, 'https://pastebin.com/uWnsdikr', 6382, 556, 'Python', '2022-06-17 01:53:47'), (35, 'https://pastebin.com/u2DbJM0E', 4820, 573, 'Python', '2022-06-17 01:53:49'), (36, 'https://pastebin.com/D5KqZgQT', 4736, 622, 'Python', '2022-06-17 01:53:50'), (37, 'https://pastebin.com/nXWrSqGn', 3186, 508, 'Python', '2022-06-17 01:53:51'), (38, 'https://pastebin.com/38byHdLu', 2328, 485, 'Python', '2022-06-17 01:53:53'), (39, 'https://pastebin.com/SuPr5mpq', 1939, 467, 'Python', '2022-06-17 01:53:54'), (40, 'https://pastebin.com/wcywmEGg', 2013, 470, 'Python', '2022-06-17 01:53:55'), (41, 'https://pastebin.com/H6YWXGE4', 4026, 652, 'Python', '2022-06-17 01:53:56'), (42, 'https://pastebin.com/FXeVG7Ji', 2739, 520, 'Python', '2022-06-17 01:53:58'), (43, 'https://pastebin.com/JnUC7kVp', 3284, 527, 'Python', '2022-06-17 01:53:59'), (44, 'https://pastebin.com/Fr40RGXR', 2380, 502, 'Python', '2022-06-17 01:54:00'), (45, 'https://pastebin.com/DeKmU8AX', 2900, 564, 'Python', '2022-06-17 01:54:01'), (46, 'https://pastebin.com/8uGifDhx', 4208, 563, 'Python', '2022-06-17 01:54:02'), (47, 'https://pastebin.com/6HGn8DaN', 4105, 538, 'Python', '2022-06-17 01:54:04'), (48, 'https://pastebin.com/LkURn8YW', 2072, 480, 'Python', '2022-06-17 01:54:05'), (49, 'https://pastebin.com/EkSqD4qY', 8084, 605, 'Python', '2022-06-17 01:54:06'), (50, 'https://pastebin.com/GtWy5pFc', 3658, 552, 'Python', '2022-06-17 01:54:08'), (51, 'https://pastebin.com/jNYwp9vL', 2005, 468, 'Java', '2022-06-17 01:54:10'), (52, 'https://pastebin.com/GFG2SZca', 3393, 534, 'Java', '2022-06-17 01:54:11'), (53, 'https://pastebin.com/1DM6UCjp', 3701, 571, 'Java', '2022-06-17 01:54:12'), (54, 'https://pastebin.com/s9Sktsjg', 3697, 570, 'Java', '2022-06-17 01:54:14'), (55, 'https://pastebin.com/xj6H9Jyk', 3707, 571, 'Java', '2022-06-17 01:54:15'), (56, 'https://pastebin.com/aQqXerSw', 8325, 607, 'Java', '2022-06-17 01:54:16'), (57, 'https://pastebin.com/BDyDxhMn', 4723, 543, 'Java', '2022-06-17 01:54:17'), (58, 'https://pastebin.com/qDZuRf0e', 3259, 513, 'Java', '2022-06-17 01:54:18'), (59, 'https://pastebin.com/xidsfq4N', 5199, 558, 'Java', '2022-06-17 01:54:20'), (60, 'https://pastebin.com/vPuGMcpD', 3209, 518, 'Java', '2022-06-17 01:54:21'), (61, 'https://pastebin.com/W8ywgbBS', 5396, 570, 'Java', '2022-06-17 01:54:22'), (62, 'https://pastebin.com/vtaXb5Ly', 3709, 539, 'Java', '2022-06-17 01:54:24'), (63, 'https://pastebin.com/yHK3XcYw', 8499, 605, 'Java', '2022-06-17 01:54:25'), (64, 'https://pastebin.com/HaTfYYiC', 9942, 623, 'Java', '2022-06-17 01:54:27'), (65, 'https://pastebin.com/jjBSKE2i', 30606, 558, 'Java', '2022-06-17 01:54:29'), (66, 'https://pastebin.com/aLEZt58R', 10292, 623, 'Java', '2022-06-17 01:54:30'), (67, 'https://pastebin.com/fgx9FwTa', 6922, 609, 'Java', '2022-06-17 01:54:32'), (68, 'https://pastebin.com/tx8Y2FiX', 55576, 1390, 'Java', '2022-06-17 01:54:34'), (69, 'https://pastebin.com/cWKnJfk2', 27063, 916, 'Java', '2022-06-17 01:54:37'), (70, 'https://pastebin.com/zxr3p9VU', 6441, 582, 'Java', '2022-06-17 01:54:38'), (71, 'https://pastebin.com/VAMc9fhq', 3118, 520, 'Java', '2022-06-17 01:54:39'), (72, 'https://pastebin.com/ia3aNDnj', 2348, 495, 'Java', '2022-06-17 01:54:40'), (73, 'https://pastebin.com/SWyP6KkW', 2437, 502, 'Java', '2022-06-17 01:54:42'), (74, 'https://pastebin.com/EZpwtq7f', 3621, 563, 'Java', '2022-06-17 01:54:43'), (75, 'https://pastebin.com/hsuFF9ZV', 11286, 712, 'Java', '2022-06-17 01:54:44'), (76, 'https://pastebin.com/u8uDNTGG', 14747, 708, 'Java', '2022-06-17 01:54:46'), (77, 'https://pastebin.com/jkq47CMs', 3921, 521, 'Java', '2022-06-17 01:54:47'), (78, 'https://pastebin.com/py70T8Y9', 2680, 503, 'Java', '2022-06-17 01:54:48'), (79, 'https://pastebin.com/WfE3tT5c', 2628, 507, 'Java', '2022-06-17 01:54:50'), (80, 'https://pastebin.com/9JWay2gH', 2406, 491, 'Java', '2022-06-17 01:54:51'), (81, 'https://pastebin.com/vWAynK1K', 2825, 512, 'Java', '2022-06-17 01:54:52'), (82, 'https://pastebin.com/Q5MQRus8', 2431, 496, 'Java', '2022-06-17 01:54:53'), (83, 'https://pastebin.com/FAXs7Red', 4217, 532, 'Java', '2022-06-17 01:54:55'), (84, 'https://pastebin.com/w94msRxd', 5123, 617, 'Java', '2022-06-17 01:54:57'), (85, 'https://pastebin.com/Eu48nzJq', 2698, 509, 'Java', '2022-06-17 01:54:58'), (86, 'https://pastebin.com/DwjcLUMX', 2796, 499, 'Java', '2022-06-17 01:55:00'), (87, 'https://pastebin.com/W1uWVEtQ', 2636, 504, 'Java', '2022-06-17 01:55:01'), (88, 'https://pastebin.com/EFvy5afx', 3279, 503, 'Java', '2022-06-17 01:55:02'), (89, 'https://pastebin.com/iDgePja9', 2701, 509, 'Java', '2022-06-17 01:55:03'), (90, 'https://pastebin.com/QzgStv3P', 3536, 539, 'Java', '2022-06-17 01:55:04'), (91, 'https://pastebin.com/E8LU8s1m', 2329, 507, 'Java', '2022-06-17 01:55:06'), (92, 'https://pastebin.com/BKe5sd1q', 8459, 610, 'Java', '2022-06-17 01:55:07'), (93, 'https://pastebin.com/xc2hUVsf', 4179, 553, 'Java', '2022-06-17 01:55:08'), (94, 'https://pastebin.com/juULmFrQ', 5404, 560, 'Java', '2022-06-17 01:55:10'), (95, 'https://pastebin.com/Gtny0wHz', 5616, 619, 'Java', '2022-06-17 01:55:11'), (96, 'https://pastebin.com/a1PcQbqe', 2557, 500, 'Java', '2022-06-17 01:55:12'), (97, 'https://pastebin.com/Cj3ZYbR2', 2567, 500, 'Java', '2022-06-17 01:55:13'), (98, 'https://pastebin.com/MjeTuSQ7', 3347, 560, 'Java', '2022-06-17 01:55:15'), (99, 'https://pastebin.com/nFz47KJA', 2698, 523, 'Java', '2022-06-17 01:55:16'), (100, 'https://pastebin.com/ATx7fLpa', 3231, 516, 'Java', '2022-06-17 01:55:17'), (101, 'https://pastebin.com/0SyFF4uf', 3141, 504, 'JavaScript', '2022-06-17 01:55:19'), (102, 'https://pastebin.com/eySUkycG', 5535, 522, 'JavaScript', '2022-06-17 01:55:21'), (103, 'https://pastebin.com/1c0Xxwpg', 4822, 545, 'JavaScript', '2022-06-17 01:55:22'), (104, 'https://pastebin.com/1k6QkZ2p', 4596, 523, 'JavaScript', '2022-06-17 01:55:23'), (105, 'https://pastebin.com/s1h8E5dB', 3050, 495, 'JavaScript', '2022-06-17 01:55:25'), (106, 'https://pastebin.com/BiVRkprU', 14970, 678, 'JavaScript', '2022-06-17 01:55:26'), (107, 'https://pastebin.com/j918VMZB', 6012, 508, 'JavaScript', '2022-06-17 01:55:27'), (108, 'https://pastebin.com/FwPxcSFE', 3462, 568, 'JavaScript', '2022-06-17 01:55:29'), (109, 'https://pastebin.com/ZY1YmqPi', 4689, 536, 'JavaScript', '2022-06-17 01:55:30'), (110, 'https://pastebin.com/FmKF9FZH', 2651, 501, 'JavaScript', '2022-06-17 01:55:31'), (111, 'https://pastebin.com/eu4LcE63', 4676, 585, 'JavaScript', '2022-06-17 01:55:33'), (112, 'https://pastebin.com/rFLxf1Vu', 2010, 478, 'JavaScript', '2022-06-17 01:55:34'), (113, 'https://pastebin.com/JW9K2JiL', 2040, 478, 'JavaScript', '2022-06-17 01:55:35'), (114, 'https://pastebin.com/peQsasdM', 4938, 530, 'JavaScript', '2022-06-17 01:55:37'), (115, 'https://pastebin.com/xQLtBkMi', 4358, 522, 'JavaScript', '2022-06-17 01:55:38'), (116, 'https://pastebin.com/sACSK0gd', 2837, 547, 'JavaScript', '2022-06-17 01:55:39'), (117, 'https://pastebin.com/423946pQ', 5606, 502, 'JavaScript', '2022-06-17 01:55:40'), (118, 'https://pastebin.com/2GkqmEAw', 4284, 528, 'JavaScript', '2022-06-17 01:55:42'), (119, 'https://pastebin.com/btYvWeHD', 5050, 508, 'JavaScript', '2022-06-17 01:55:43'), (120, 'https://pastebin.com/J8GdNSpM', 2617, 486, 'JavaScript', '2022-06-17 01:55:44'), (121, 'https://pastebin.com/ScR9kjuZ', 2192, 490, 'JavaScript', '2022-06-17 01:55:45'), (122, 'https://pastebin.com/0ryEADEw', 9144, 588, 'JavaScript', '2022-06-17 01:55:47'), (123, 'https://pastebin.com/MG4iHqer', 3092, 511, 'JavaScript', '2022-06-17 01:55:48'), (124, 'https://pastebin.com/WzRUM6it', 2462, 482, 'JavaScript', '2022-06-17 01:55:49'), (125, 'https://pastebin.com/JeSfzzBp', 6439, 563, 'JavaScript', '2022-06-17 01:55:51'), (126, 'https://pastebin.com/gHRUXUN3', 6234, 524, 'JavaScript', '2022-06-17 01:55:52'), (127, 'https://pastebin.com/wDfUU7MX', 2504, 511, 'JavaScript', '2022-06-17 01:55:53'), (128, 'https://pastebin.com/UJEzUxtb', 2609, 482, 'JavaScript', '2022-06-17 01:55:54'), (129, 'https://pastebin.com/5jAm5ZGs', 3662, 513, 'JavaScript', '2022-06-17 01:55:56'), (130, 'https://pastebin.com/7atECWpq', 6592, 570, 'JavaScript', '2022-06-17 01:55:57'), (131, 'https://pastebin.com/Yg6qEg3d', 6821, 531, 'JavaScript', '2022-06-17 01:55:58'), (132, 'https://pastebin.com/JffHCEuf', 4829, 529, 'JavaScript', '2022-06-17 01:56:00'), (133, 'https://pastebin.com/nAsFyMa4', 4102, 512, 'JavaScript', '2022-06-17 01:56:01'), (134, 'https://pastebin.com/5nPef5Kg', 6024, 528, 'JavaScript', '2022-06-17 01:56:02'), (135, 'https://pastebin.com/DLhME2Yh', 5285, 532, 'JavaScript', '2022-06-17 01:56:04'), (136, 'https://pastebin.com/77qGWidA', 2198, 481, 'JavaScript', '2022-06-17 01:56:05'), (137, 'https://pastebin.com/71BQmpSL', 2050, 483, 'JavaScript', '2022-06-17 01:56:06'), (138, 'https://pastebin.com/8hrVXpcu', 3084, 517, 'JavaScript', '2022-06-17 01:56:07'), (139, 'https://pastebin.com/3dKshkW2', 5356, 711, 'JavaScript', '2022-06-17 01:56:09'), (140, 'https://pastebin.com/tHhZvQUL', 5292, 518, 'JavaScript', '2022-06-17 01:56:10'), (141, 'https://pastebin.com/EmG7jMPd', 4261, 535, 'JavaScript', '2022-06-17 01:56:11'), (142, 'https://pastebin.com/Ap117zVv', 3435, 498, 'JavaScript', '2022-06-17 01:56:12'), (143, 'https://pastebin.com/eKPzruYh', 3914, 531, 'JavaScript', '2022-06-17 01:56:14'), (144, 'https://pastebin.com/VyPHdeVF', 1759, 465, 'JavaScript', '2022-06-17 01:56:15'), (145, 'https://pastebin.com/CHJBeNRa', 4394, 539, 'JavaScript', '2022-06-17 01:56:16'), (146, 'https://pastebin.com/T4gFGU6x', 6298, 556, 'JavaScript', '2022-06-17 01:56:17'), (147, 'https://pastebin.com/21NdiYLw', 2093, 482, 'JavaScript', '2022-06-17 01:56:19'), (148, 'https://pastebin.com/NhT17HSj', 2358, 502, 'JavaScript', '2022-06-17 01:56:20'), (149, 'https://pastebin.com/2tRW7Cc4', 2194, 481, 'JavaScript', '2022-06-17 01:56:21'), (150, 'https://pastebin.com/KLdhBxep', 3590, 495, 'JavaScript', '2022-06-17 01:56:22'), (151, 'https://pastebin.com/Le2kgHUZ', 1738, 461, 'C', '2022-06-17 01:56:24'), (152, 'https://pastebin.com/5iZEvq5B', 1740, 465, 'C', '2022-06-17 01:56:26'), (153, 'https://pastebin.com/KynXqrzM', 1741, 465, 'C', '2022-06-17 01:56:27'), (154, 'https://pastebin.com/UDw5Kjri', 1738, 463, 'C', '2022-06-17 01:56:28'), (155, 'https://pastebin.com/tCpQ9x6P', 1736, 461, 'C', '2022-06-17 01:56:29'), (156, 'https://pastebin.com/vakNyghd', 5427, 662, 'C', '2022-06-17 01:56:30'), (157, 'https://pastebin.com/SXZTCFv2', 1738, 463, 'C', '2022-06-17 01:56:32'), (158, 'https://pastebin.com/GBZfQEUS', 1739, 463, 'C', '2022-06-17 01:56:33'), (159, 'https://pastebin.com/xvUCZy1v', 1736, 461, 'C', '2022-06-17 01:56:34'), (160, 'https://pastebin.com/FBfj2Jhy', 1737, 462, 'C', '2022-06-17 01:56:35'), (161, 'https://pastebin.com/zTeAa6Eg', 1736, 461, 'C', '2022-06-17 01:56:37'), (162, 'https://pastebin.com/8tfxFpQ9', 3875, 540, 'C', '2022-06-17 01:56:38'), (163, 'https://pastebin.com/HXktDAH6', 1738, 462, 'C', '2022-06-17 01:56:39'), (164, 'https://pastebin.com/WMS6pkM1', 1737, 462, 'C', '2022-06-17 01:56:40'), (165, 'https://pastebin.com/Wkjfvwwn', 1736, 461, 'C', '2022-06-17 01:56:41'), (166, 'https://pastebin.com/W13Z7bt3', 2970, 504, 'C', '2022-06-17 01:56:43'), (167, 'https://pastebin.com/wDyzrFdx', 1738, 462, 'C', '2022-06-17 01:56:44'), (168, 'https://pastebin.com/wPW0QhuQ', 1740, 464, 'C', '2022-06-17 01:56:45'), (169, 'https://pastebin.com/Pvj7rkQL', 1737, 462, 'C', '2022-06-17 01:56:46'), (170, 'https://pastebin.com/MXkGMBGi', 1737, 462, 'C', '2022-06-17 01:56:47'), (171, 'https://pastebin.com/9aSYhB9i', 1737, 462, 'C', '2022-06-17 01:56:49'), (172, 'https://pastebin.com/r64Y85vZ', 1736, 460, 'C', '2022-06-17 01:56:50'), (173, 'https://pastebin.com/Haz0mbtS', 1738, 463, 'C', '2022-06-17 01:56:51'), (174, 'https://pastebin.com/VBrCVraQ', 5830, 624, 'C', '2022-06-17 01:56:52'), (175, 'https://pastebin.com/QVruq60q', 1741, 465, 'C', '2022-06-17 01:56:54'), (176, 'https://pastebin.com/A7gv1U3f', 1735, 460, 'C', '2022-06-17 01:56:55'), (177, 'https://pastebin.com/ibHwrifW', 1735, 459, 'C', '2022-06-17 01:56:56'), (178, 'https://pastebin.com/ByUu2P4M', 1735, 460, 'C', '2022-06-17 01:56:58'), (179, 'https://pastebin.com/NKJKTLTB', 1737, 462, 'C', '2022-06-17 01:56:59'), (180, 'https://pastebin.com/rzDEaqn2', 2375, 496, 'C', '2022-06-17 01:57:00'), (181, 'https://pastebin.com/75yN967x', 3945, 536, 'C', '2022-06-17 01:57:01'), (182, 'https://pastebin.com/Q8ULUDCM', 1738, 463, 'C', '2022-06-17 01:57:02'), (183, 'https://pastebin.com/8LhJB3nM', 1738, 462, 'C', '2022-06-17 01:57:04'), (184, 'https://pastebin.com/VeDyH7m2', 1735, 460, 'C', '2022-06-17 01:57:05'), (185, 'https://pastebin.com/7iRV9E28', 1886, 483, 'C', '2022-06-17 01:57:06'), (186, 'https://pastebin.com/8QZDAc9X', 1880, 479, 'C', '2022-06-17 01:57:08'), (187, 'https://pastebin.com/kKPtVhs2', 1881, 480, 'C', '2022-06-17 01:57:09'), (188, 'https://pastebin.com/QrWiGctx', 2155, 500, 'C', '2022-06-17 01:57:10'), (189, 'https://pastebin.com/x4YYDz6D', 2162, 497, 'C', '2022-06-17 01:57:11'), (190, 'https://pastebin.com/49EUqe5A', 2164, 499, 'C', '2022-06-17 01:57:13'), (191, 'https://pastebin.com/ghi0Qyxw', 1738, 464, 'C', '2022-06-17 01:57:14'), (192, 'https://pastebin.com/Ge0mPHLs', 1800, 473, 'C', '2022-06-17 01:57:15'), (193, 'https://pastebin.com/mpwXwE5p', 2893, 541, 'C', '2022-06-17 01:57:16'), (194, 'https://pastebin.com/tp8R4RdA', 1740, 464, 'C', '2022-06-17 01:57:17'), (195, 'https://pastebin.com/b0Z2WE8r', 1739, 463, 'C', '2022-06-17 01:57:19'), (196, 'https://pastebin.com/SyasmQDj', 3020, 513, 'C', '2022-06-17 01:57:20'), (197, 'https://pastebin.com/ctwSvY9q', 1737, 463, 'C', '2022-06-17 01:57:22'), (198, 'https://pastebin.com/srftDTyB', 1735, 460, 'C', '2022-06-17 01:57:23'), (199, 'https://pastebin.com/waUN7Yca', 7257, 522, 'C', '2022-06-17 01:57:24'), (200, 'https://pastebin.com/fJhJdSSg', 1740, 465, 'C', '2022-06-17 01:57:26'), (201, 'https://pastebin.com/bD6S4KMH', 48565, 1069, 'HTML', '2022-06-17 01:57:29'), (202, 'https://pastebin.com/eKEK7242', 55911, 1176, 'HTML', '2022-06-17 01:57:31'), (203, 'https://pastebin.com/0kSXzf1w', 2378, 558, 'HTML', '2022-06-17 01:57:32'), (204, 'https://pastebin.com/jW38KGRp', 5388, 803, 'HTML', '2022-06-17 01:57:34'), (205, 'https://pastebin.com/zUByE2X8', 32629, 876, 'HTML', '2022-06-17 01:57:36'), (206, 'https://pastebin.com/AvfY1ENY', 3055, 494, 'HTML', '2022-06-17 01:57:37'), (207, 'https://pastebin.com/xmHex9QT', 48873, 1082, 'HTML', '2022-06-17 01:57:40'), (208, 'https://pastebin.com/n4bqmnDa', 2927, 499, 'HTML', '2022-06-17 01:57:41'), (209, 'https://pastebin.com/DnM1Ct3V', 24812, 768, 'HTML', '2022-06-17 01:57:43'), (210, 'https://pastebin.com/ftcNLeUs', 2092, 473, 'HTML', '2022-06-17 01:57:44'), (211, 'https://pastebin.com/vn7GZ7za', 20650, 622, 'HTML', '2022-06-17 01:57:46'), (212, 'https://pastebin.com/GZgia4WD', 3110, 575, 'HTML', '2022-06-17 01:57:47'), (213, 'https://pastebin.com/2jin9n4k', 3875, 597, 'HTML', '2022-06-17 01:57:48'), (214, 'https://pastebin.com/wMur5wCh', 6392, 656, 'HTML', '2022-06-17 01:57:49'), (215, 'https://pastebin.com/ZgQCfQ0K', 8763, 626, 'HTML', '2022-06-17 01:57:51'), (216, 'https://pastebin.com/erK7b4nN', 10164, 707, 'HTML', '2022-06-17 01:57:52'), (217, 'https://pastebin.com/HJBRPUqc', 4935, 595, 'HTML', '2022-06-17 01:57:53'), (218, 'https://pastebin.com/EjiDt0PV', 8909, 605, 'HTML', '2022-06-17 01:57:54'), (219, 'https://pastebin.com/c8kJwUF0', 3681, 631, 'HTML', '2022-06-17 01:57:56'), (220, 'https://pastebin.com/mNTutckd', 3716, 651, 'HTML', '2022-06-17 01:57:57'), (221, 'https://pastebin.com/FsedAtcn', 3435, 625, 'HTML', '2022-06-17 01:57:58'), (222, 'https://pastebin.com/WksxZA0S', 6569, 628, 'HTML', '2022-06-17 01:57:59'), (223, 'https://pastebin.com/KUsbj7xC', 6664, 620, 'HTML', '2022-06-17 01:58:01'), (224, 'https://pastebin.com/X5rHdYNW', 40788, 984, 'HTML', '2022-06-17 01:58:03'), (225, 'https://pastebin.com/amcFGcWC', 2698, 482, 'HTML', '2022-06-17 01:58:04'), (226, 'https://pastebin.com/gFmDyci3', 2826, 489, 'HTML', '2022-06-17 01:58:05'), (227, 'https://pastebin.com/Cef5zcKp', 3296, 546, 'HTML', '2022-06-17 01:58:07'), (228, 'https://pastebin.com/6H6x8Cxy', 1743, 457, 'HTML', '2022-06-17 01:58:08'), (229, 'https://pastebin.com/RDvAVFVG', 71724, 1369, 'HTML', '2022-06-17 01:58:11'), (230, 'https://pastebin.com/9bmiVH0N', 15033, 788, 'HTML', '2022-06-17 01:58:12'), (231, 'https://pastebin.com/HqF5efwT', 2460, 492, 'HTML', '2022-06-17 01:58:13'), (232, 'https://pastebin.com/ewy9bty3', 34508, 883, 'HTML', '2022-06-17 01:58:15'), (233, 'https://pastebin.com/5pnQ1ryf', 13125, 667, 'HTML', '2022-06-17 01:58:17'), (234, 'https://pastebin.com/8s7RNz9u', 3353, 563, 'HTML', '2022-06-17 01:58:18'), (235, 'https://pastebin.com/TfDgzF6H', 70774, 1365, 'HTML', '2022-06-17 01:58:20'), (236, 'https://pastebin.com/SjFjXg3i', 2304, 556, 'HTML', '2022-06-17 01:58:22'), (237, 'https://pastebin.com/XruZdRuV', 13428, 709, 'HTML', '2022-06-17 01:58:23'), (238, 'https://pastebin.com/s38vUzSB', 32336, 869, 'HTML', '2022-06-17 01:58:25'), (239, 'https://pastebin.com/GfpQgWA9', 3298, 507, 'HTML', '2022-06-17 01:58:26'), (240, 'https://pastebin.com/mpsquTir', 1928, 485, 'HTML', '2022-06-17 01:58:28'), (241, 'https://pastebin.com/yiB1HBLs', 3709, 526, 'HTML', '2022-06-17 01:58:29'), (242, 'https://pastebin.com/MjmCtHA1', 17301, 676, 'HTML', '2022-06-17 01:58:31'), (243, 'https://pastebin.com/7Cky5wwA', 33593, 886, 'HTML', '2022-06-17 01:58:33'), (244, 'https://pastebin.com/FPDTrq2g', 2414, 483, 'HTML', '2022-06-17 01:58:34'), (245, 'https://pastebin.com/kNwLsJRJ', 3297, 559, 'HTML', '2022-06-17 01:58:35'), (246, 'https://pastebin.com/8d5GrfGH', 3313, 560, 'HTML', '2022-06-17 01:58:37'), (247, 'https://pastebin.com/kaZwDsLG', 3338, 566, 'HTML', '2022-06-17 01:58:38'), (248, 'https://pastebin.com/uErVQR3c', 3390, 568, 'HTML', '2022-06-17 01:58:39'), (249, 'https://pastebin.com/8yhSMDaU', 32889, 875, 'HTML', '2022-06-17 01:58:42'), (250, 'https://pastebin.com/sGgMqiev', 3040, 494, 'HTML', '2022-06-17 01:58:44'), (251, 'https://pastebin.com/AScxR3ZA', 3641, 498, 'PHP', '2022-06-17 01:58:46'), (252, 'https://pastebin.com/chuwpxQP', 1780, 469, 'PHP', '2022-06-17 01:58:47'), (253, 'https://pastebin.com/H28iruRR', 3098, 490, 'PHP', '2022-06-17 01:58:49'), (254, 'https://pastebin.com/FAhc4bgu', 3865, 558, 'PHP', '2022-06-17 01:58:50'), (255, 'https://pastebin.com/ETkyewi7', 2292, 485, 'PHP', '2022-06-17 01:58:51'), (256, 'https://pastebin.com/rGhswdXR', 2199, 490, 'PHP', '2022-06-17 01:58:53'), (257, 'https://pastebin.com/G22ujTr7', 3820, 529, 'PHP', '2022-06-17 01:58:54'), (258, 'https://pastebin.com/evsL7GDe', 3855, 539, 'PHP', '2022-06-17 01:58:56'), (259, 'https://pastebin.com/vij13qb5', 1728, 461, 'PHP', '2022-06-17 01:58:58'), (260, 'https://pastebin.com/xrSvW2PU', 2964, 525, 'PHP', '2022-06-17 01:58:59'), (261, 'https://pastebin.com/Fi5yrGAf', 2261, 499, 'PHP', '2022-06-17 01:59:00'), (262, 'https://pastebin.com/ntVQmbVH', 1739, 466, 'PHP', '2022-06-17 01:59:02'), (263, 'https://pastebin.com/ujC6sBdp', 13616, 679, 'PHP', '2022-06-17 01:59:03'), (264, 'https://pastebin.com/s1Gz0ANk', 7510, 643, 'PHP', '2022-06-17 01:59:05'), (265, 'https://pastebin.com/SBFa1kYd', 13519, 672, 'PHP', '2022-06-17 01:59:07'), (266, 'https://pastebin.com/5BjPY5MM', 5523, 535, 'PHP', '2022-06-17 01:59:09'), (267, 'https://pastebin.com/rm8SGhPF', 2802, 515, 'PHP', '2022-06-17 01:59:10'), (268, 'https://pastebin.com/2x5PURvC', 2235, 492, 'PHP', '2022-06-17 01:59:11'), (269, 'https://pastebin.com/f1J7G2Ch', 1758, 466, 'PHP', '2022-06-17 01:59:12'), (270, 'https://pastebin.com/CzrPncsD', 1719, 458, 'PHP', '2022-06-17 01:59:14'), (271, 'https://pastebin.com/GGqx0ZYt', 2168, 491, 'PHP', '2022-06-17 01:59:15'), (272, 'https://pastebin.com/kZsVxhZG', 8979, 532, 'PHP', '2022-06-17 01:59:16'), (273, 'https://pastebin.com/7RSP7TDE', 2019, 478, 'PHP', '2022-06-17 01:59:17'), (274, 'https://pastebin.com/AQcbHznX', 3698, 502, 'PHP', '2022-06-17 01:59:18'), (275, 'https://pastebin.com/qsiVPLdL', 2232, 495, 'PHP', '2022-06-17 01:59:20'), (276, 'https://pastebin.com/yFHceAZm', 2184, 492, 'PHP', '2022-06-17 01:59:21'), (277, 'https://pastebin.com/8AsPpeUX', 2135, 490, 'PHP', '2022-06-17 01:59:22'), (278, 'https://pastebin.com/868bvRAS', 2096, 486, 'PHP', '2022-06-17 01:59:23'), (279, 'https://pastebin.com/cCFPuURt', 2276, 501, 'PHP', '2022-06-17 01:59:25'), (280, 'https://pastebin.com/BHXq3pU3', 3222, 516, 'PHP', '2022-06-17 01:59:26'), (281, 'https://pastebin.com/q2bigjys', 1982, 483, 'PHP', '2022-06-17 01:59:27'), (282, 'https://pastebin.com/WADkuc2N', 2088, 493, 'PHP', '2022-06-17 01:59:28'), (283, 'https://pastebin.com/Y6d5iAYs', 2552, 519, 'PHP', '2022-06-17 01:59:29'), (284, 'https://pastebin.com/B0R1TewL', 2390, 524, 'PHP', '2022-06-17 01:59:31'), (285, 'https://pastebin.com/ZUEif4HH', 3000, 508, 'PHP', '2022-06-17 01:59:32'), (286, 'https://pastebin.com/UV8XvJuF', 1839, 467, 'PHP', '2022-06-17 01:59:33'), (287, 'https://pastebin.com/UTrFQ0E7', 4183, 487, 'PHP', '2022-06-17 01:59:34'), (288, 'https://pastebin.com/NXPCnEQm', 1888, 471, 'PHP', '2022-06-17 01:59:36'), (289, 'https://pastebin.com/26dzGbpD', 1928, 479, 'PHP', '2022-06-17 01:59:37'), (290, 'https://pastebin.com/LkJ58Psb', 2539, 490, 'PHP', '2022-06-17 01:59:38'), (291, 'https://pastebin.com/QAfPga8a', 2829, 501, 'PHP', '2022-06-17 01:59:39'), (292, 'https://pastebin.com/0swvXmMb', 3138, 514, 'PHP', '2022-06-17 01:59:41'), (293, 'https://pastebin.com/un9zQAm8', 2543, 505, 'PHP', '2022-06-17 01:59:42'), (294, 'https://pastebin.com/1jm4ukqQ', 2272, 494, 'PHP', '2022-06-17 01:59:43'), (295, 'https://pastebin.com/bJvtDccd', 2129, 478, 'PHP', '2022-06-17 01:59:44'), (296, 'https://pastebin.com/yiQWhtNQ', 2218, 500, 'PHP', '2022-06-17 01:59:46'), (297, 'https://pastebin.com/47tesCtm', 2656, 513, 'PHP', '2022-06-17 01:59:47'), (298, 'https://pastebin.com/9N9WvbKZ', 2277, 495, 'PHP', '2022-06-17 01:59:48'), (299, 'https://pastebin.com/vHn7wQcq', 2228, 496, 'PHP', '2022-06-17 01:59:50'), (300, 'https://pastebin.com/hvNfXcx2', 2019, 485, 'PHP', '2022-06-17 01:59:51'), (301, 'https://pastebin.com/TLMCzy8P', 2119, 502, 'Lua', '2022-06-17 01:59:53'), (302, 'https://pastebin.com/jacsXRBw', 457804, 543, 'Lua', '2022-06-17 02:00:06'), (303, 'https://pastebin.com/EqhhvwcV', 5727, 540, 'Lua', '2022-06-17 02:00:08'), (304, 'https://pastebin.com/wqG8aZa7', 3271, 522, 'Lua', '2022-06-17 02:00:09'), (305, 'https://pastebin.com/uaY8zVKh', 1798, 475, 'Lua', '2022-06-17 02:00:11'), (306, 'https://pastebin.com/a4eyedq6', 25000, 727, 'Lua', '2022-06-17 02:00:13'), (307, 'https://pastebin.com/Ur2PVTQw', 6352, 545, 'Lua', '2022-06-17 02:00:14'), (308, 'https://pastebin.com/2QpJ3g5a', 2025, 477, 'Lua', '2022-06-17 02:00:16'), (309, 'https://pastebin.com/BE6Xxsku', 2044, 480, 'Lua', '2022-06-17 02:00:17'), (310, 'https://pastebin.com/BrwhtrFa', 4582, 534, 'Lua', '2022-06-17 02:00:19'), (311, 'https://pastebin.com/BRvfbexU', 1848, 481, 'Lua', '2022-06-17 02:00:20'), (312, 'https://pastebin.com/GF5U40zh', 1991, 489, 'Lua', '2022-06-17 02:00:22'), (313, 'https://pastebin.com/eQJMXKub', 7503, 576, 'Lua', '2022-06-17 02:00:23'), (314, 'https://pastebin.com/wDgqwrZj', 5959, 560, 'Lua', '2022-06-17 02:00:25'), (315, 'https://pastebin.com/z9UDPps8', 3435, 509, 'Lua', '2022-06-17 02:00:27'), (316, 'https://pastebin.com/p1gYPYKK', 1980, 463, 'Lua', '2022-06-17 02:00:28'), (317, 'https://pastebin.com/0SZLF049', 1935, 470, 'Lua', '2022-06-17 02:00:30'), (318, 'https://pastebin.com/bAT458R0', 2575, 516, 'Lua', '2022-06-17 02:00:31'), (319, 'https://pastebin.com/bC0m7Ev0', 3859, 563, 'Lua', '2022-06-17 02:00:32'), (320, 'https://pastebin.com/mi2fQ2Lt', 2476, 490, 'Lua', '2022-06-17 02:00:34'), (321, 'https://pastebin.com/qzs5k3FN', 4241, 548, 'Lua', '2022-06-17 02:00:35'), (322, 'https://pastebin.com/CrkGsdTe', 6556, 576, 'Lua', '2022-06-17 02:00:37'), (323, 'https://pastebin.com/4xepw0hJ', 3643, 543, 'Lua', '2022-06-17 02:00:38'), (324, 'https://pastebin.com/xd6u2N29', 2018, 506, 'Lua', '2022-06-17 02:00:39'), (325, 'https://pastebin.com/ieHbGPHx', 2096, 486, 'Lua', '2022-06-17 02:00:40'), (326, 'https://pastebin.com/Kst5HWcw', 4046, 539, 'Lua', '2022-06-17 02:00:42'), (327, 'https://pastebin.com/yQA757fU', 1970, 479, 'Lua', '2022-06-17 02:00:43'), (328, 'https://pastebin.com/4JjfFMQZ', 6641, 574, 'Lua', '2022-06-17 02:00:45'), (329, 'https://pastebin.com/nhAcaBRC', 3896, 539, 'Lua', '2022-06-17 02:00:46'), (330, 'https://pastebin.com/RPS7m9Xk', 1727, 459, 'Lua', '2022-06-17 02:00:47'), (331, 'https://pastebin.com/nwU9JRYv', 2146, 483, 'Lua', '2022-06-17 02:00:49'), (332, 'https://pastebin.com/NHC0HWWE', 2352, 503, 'Lua', '2022-06-17 02:00:50'), (333, 'https://pastebin.com/iwahGZy9', 4772, 524, 'Lua', '2022-06-17 02:00:52'), (334, 'https://pastebin.com/Lcf8yzaL', 11056, 570, 'Lua', '2022-06-17 02:00:54'), (335, 'https://pastebin.com/kEf1YNmi', 2730, 509, 'Lua', '2022-06-17 02:00:56'), (336, 'https://pastebin.com/GJJLcbpT', 1945, 470, 'Lua', '2022-06-17 02:00:58'), (337, 'https://pastebin.com/G0GRh7R3', 2698, 515, 'Lua', '2022-06-17 02:00:59'), (338, 'https://pastebin.com/6TRtWgPW', 7439, 627, 'Lua', '2022-06-17 02:01:01'), (339, 'https://pastebin.com/0HZJpvEU', 5392, 512, 'Lua', '2022-06-17 02:01:02'), (340, 'https://pastebin.com/7UHYazex', 2845, 513, 'Lua', '2022-06-17 02:01:03'), (341, 'https://pastebin.com/ddXmhv9n', 2786, 509, 'Lua', '2022-06-17 02:01:05'), (342, 'https://pastebin.com/D7X9uuZ4', 1853, 477, 'Lua', '2022-06-17 02:01:07'), (343, 'https://pastebin.com/VPcNYmrj', 28569, 692, 'Lua', '2022-06-17 02:01:10'), (344, 'https://pastebin.com/wNXUPLs9', 3528, 477, 'Lua', '2022-06-17 02:01:11'), (345, 'https://pastebin.com/hMKAfTLe', 1777, 471, 'Lua', '2022-06-17 02:01:12'), (346, 'https://pastebin.com/s5nRabz5', 3538, 534, 'Lua', '2022-06-17 02:01:14'), (347, 'https://pastebin.com/GtrdYhkS', 4761, 580, 'Lua', '2022-06-17 02:01:15'), (348, 'https://pastebin.com/g8gaSN7f', 5094, 542, 'Lua', '2022-06-17 02:01:18'), (349, 'https://pastebin.com/dwe0b0iN', 9624, 596, 'Lua', '2022-06-17 02:01:20'), (350, 'https://pastebin.com/wnbJgFsX', 1972, 493, 'Lua', '2022-06-17 02:01:21')]\n"
     ]
    }
   ],
   "source": [
    "print(data)"
   ]
  },
  {
   "cell_type": "markdown",
   "id": "064452e7",
   "metadata": {},
   "source": [
    "## Transformando a Lista em DF do Pandas"
   ]
  },
  {
   "cell_type": "code",
   "execution_count": 35,
   "id": "0f577ef0",
   "metadata": {},
   "outputs": [
    {
     "data": {
      "text/html": [
       "<div>\n",
       "<style scoped>\n",
       "    .dataframe tbody tr th:only-of-type {\n",
       "        vertical-align: middle;\n",
       "    }\n",
       "\n",
       "    .dataframe tbody tr th {\n",
       "        vertical-align: top;\n",
       "    }\n",
       "\n",
       "    .dataframe thead th {\n",
       "        text-align: right;\n",
       "    }\n",
       "</style>\n",
       "<table border=\"1\" class=\"dataframe\">\n",
       "  <thead>\n",
       "    <tr style=\"text-align: right;\">\n",
       "      <th></th>\n",
       "      <th>id</th>\n",
       "      <th>link page</th>\n",
       "      <th>word count</th>\n",
       "      <th>different words</th>\n",
       "      <th>syntax</th>\n",
       "      <th>timestamp</th>\n",
       "    </tr>\n",
       "  </thead>\n",
       "  <tbody>\n",
       "    <tr>\n",
       "      <th>0</th>\n",
       "      <td>1</td>\n",
       "      <td>https://pastebin.com/GhXcvGiJ</td>\n",
       "      <td>8366</td>\n",
       "      <td>609</td>\n",
       "      <td>Python</td>\n",
       "      <td>2022-06-17 01:53:04</td>\n",
       "    </tr>\n",
       "    <tr>\n",
       "      <th>1</th>\n",
       "      <td>2</td>\n",
       "      <td>https://pastebin.com/gKUymEWP</td>\n",
       "      <td>2893</td>\n",
       "      <td>516</td>\n",
       "      <td>Python</td>\n",
       "      <td>2022-06-17 01:53:06</td>\n",
       "    </tr>\n",
       "    <tr>\n",
       "      <th>2</th>\n",
       "      <td>3</td>\n",
       "      <td>https://pastebin.com/nVmcbXPZ</td>\n",
       "      <td>8499</td>\n",
       "      <td>698</td>\n",
       "      <td>Python</td>\n",
       "      <td>2022-06-17 01:53:08</td>\n",
       "    </tr>\n",
       "    <tr>\n",
       "      <th>3</th>\n",
       "      <td>4</td>\n",
       "      <td>https://pastebin.com/8ZHLNL3r</td>\n",
       "      <td>2374</td>\n",
       "      <td>493</td>\n",
       "      <td>Python</td>\n",
       "      <td>2022-06-17 01:53:09</td>\n",
       "    </tr>\n",
       "    <tr>\n",
       "      <th>4</th>\n",
       "      <td>5</td>\n",
       "      <td>https://pastebin.com/A4PychBN</td>\n",
       "      <td>2498</td>\n",
       "      <td>494</td>\n",
       "      <td>Python</td>\n",
       "      <td>2022-06-17 01:53:10</td>\n",
       "    </tr>\n",
       "    <tr>\n",
       "      <th>...</th>\n",
       "      <td>...</td>\n",
       "      <td>...</td>\n",
       "      <td>...</td>\n",
       "      <td>...</td>\n",
       "      <td>...</td>\n",
       "      <td>...</td>\n",
       "    </tr>\n",
       "    <tr>\n",
       "      <th>345</th>\n",
       "      <td>346</td>\n",
       "      <td>https://pastebin.com/s5nRabz5</td>\n",
       "      <td>3538</td>\n",
       "      <td>534</td>\n",
       "      <td>Lua</td>\n",
       "      <td>2022-06-17 02:01:14</td>\n",
       "    </tr>\n",
       "    <tr>\n",
       "      <th>346</th>\n",
       "      <td>347</td>\n",
       "      <td>https://pastebin.com/GtrdYhkS</td>\n",
       "      <td>4761</td>\n",
       "      <td>580</td>\n",
       "      <td>Lua</td>\n",
       "      <td>2022-06-17 02:01:15</td>\n",
       "    </tr>\n",
       "    <tr>\n",
       "      <th>347</th>\n",
       "      <td>348</td>\n",
       "      <td>https://pastebin.com/g8gaSN7f</td>\n",
       "      <td>5094</td>\n",
       "      <td>542</td>\n",
       "      <td>Lua</td>\n",
       "      <td>2022-06-17 02:01:18</td>\n",
       "    </tr>\n",
       "    <tr>\n",
       "      <th>348</th>\n",
       "      <td>349</td>\n",
       "      <td>https://pastebin.com/dwe0b0iN</td>\n",
       "      <td>9624</td>\n",
       "      <td>596</td>\n",
       "      <td>Lua</td>\n",
       "      <td>2022-06-17 02:01:20</td>\n",
       "    </tr>\n",
       "    <tr>\n",
       "      <th>349</th>\n",
       "      <td>350</td>\n",
       "      <td>https://pastebin.com/wnbJgFsX</td>\n",
       "      <td>1972</td>\n",
       "      <td>493</td>\n",
       "      <td>Lua</td>\n",
       "      <td>2022-06-17 02:01:21</td>\n",
       "    </tr>\n",
       "  </tbody>\n",
       "</table>\n",
       "<p>350 rows × 6 columns</p>\n",
       "</div>"
      ],
      "text/plain": [
       "      id                      link page  word count  different words  syntax  \\\n",
       "0      1  https://pastebin.com/GhXcvGiJ        8366              609  Python   \n",
       "1      2  https://pastebin.com/gKUymEWP        2893              516  Python   \n",
       "2      3  https://pastebin.com/nVmcbXPZ        8499              698  Python   \n",
       "3      4  https://pastebin.com/8ZHLNL3r        2374              493  Python   \n",
       "4      5  https://pastebin.com/A4PychBN        2498              494  Python   \n",
       "..   ...                            ...         ...              ...     ...   \n",
       "345  346  https://pastebin.com/s5nRabz5        3538              534     Lua   \n",
       "346  347  https://pastebin.com/GtrdYhkS        4761              580     Lua   \n",
       "347  348  https://pastebin.com/g8gaSN7f        5094              542     Lua   \n",
       "348  349  https://pastebin.com/dwe0b0iN        9624              596     Lua   \n",
       "349  350  https://pastebin.com/wnbJgFsX        1972              493     Lua   \n",
       "\n",
       "               timestamp  \n",
       "0    2022-06-17 01:53:04  \n",
       "1    2022-06-17 01:53:06  \n",
       "2    2022-06-17 01:53:08  \n",
       "3    2022-06-17 01:53:09  \n",
       "4    2022-06-17 01:53:10  \n",
       "..                   ...  \n",
       "345  2022-06-17 02:01:14  \n",
       "346  2022-06-17 02:01:15  \n",
       "347  2022-06-17 02:01:18  \n",
       "348  2022-06-17 02:01:20  \n",
       "349  2022-06-17 02:01:21  \n",
       "\n",
       "[350 rows x 6 columns]"
      ]
     },
     "execution_count": 35,
     "metadata": {},
     "output_type": "execute_result"
    }
   ],
   "source": [
    "import pandas as pd\n",
    "\n",
    "df = pd.DataFrame(data, columns=['id','link page','word count','different words','syntax','timestamp'])\n",
    "\n",
    "df"
   ]
  }
 ],
 "metadata": {
  "kernelspec": {
   "display_name": "Python 3 (ipykernel)",
   "language": "python",
   "name": "python3"
  },
  "language_info": {
   "codemirror_mode": {
    "name": "ipython",
    "version": 3
   },
   "file_extension": ".py",
   "mimetype": "text/x-python",
   "name": "python",
   "nbconvert_exporter": "python",
   "pygments_lexer": "ipython3",
   "version": "3.8.13"
  }
 },
 "nbformat": 4,
 "nbformat_minor": 5
}
