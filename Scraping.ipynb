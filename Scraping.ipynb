{
 "cells": [
  {
   "cell_type": "code",
   "execution_count": 21,
   "id": "7af747f6",
   "metadata": {},
   "outputs": [],
   "source": [
    "import requests\n",
    "import pandas as pd\n",
    "import sqlite3\n",
    "\n",
    "from bs4 import BeautifulSoup\n",
    "from time import time\n",
    "from datetime import datetime"
   ]
  },
  {
   "cell_type": "code",
   "execution_count": 22,
   "id": "10556451",
   "metadata": {},
   "outputs": [],
   "source": [
    "base_url = 'https://pastebin.com'\n",
    "url = 'https://pastebin.com/archive'\n",
    "\n",
    "response = requests.get(url)\n",
    "soup = BeautifulSoup(response.content, 'html.parser')\n",
    "table = soup.find('table', class_=\"maintable\")\n",
    "\n",
    "url_list = []\n",
    "\n",
    "for link in table.select('tbody tr td span ~ a'):\n",
    "  item_link = base_url + link.get('href')\n",
    "  raw_link = base_url + link.get('href')\n",
    "\n",
    "  response = requests.get(raw_link)\n",
    "  all_text = response.text\n",
    "\n",
    "  text_stripped = all_text.split()\n",
    "  word_count = len(text_stripped)\n",
    "\n",
    "  unique_text = set(text_stripped)\n",
    "  word_diff_count = len(unique_text)\n",
    "   \n",
    "  response = requests.get(base_url + link.get('href'))\n",
    "  soup = BeautifulSoup(response.content, 'html.parser')\n",
    "\n",
    "  search = soup.select_one('div.highlighted-code > div.top-buttons > div.left > a')\n",
    "  syntax = search.text\n",
    "  \n",
    "  now = time()\n",
    "  now_time = datetime.utcfromtimestamp(now).strftime('%Y-%m-%d %H:%M:%S')\n",
    "\n",
    "  url_list.append([item_link, word_count, word_diff_count, syntax ,now_time])\n",
    "\n",
    "\n",
    "df = pd.DataFrame(data = url_list, columns = ['page_link', 'word_count', 'word_diff_count', 'syntax' ,'pickup_time'])\n",
    "df.to_csv('data_scraping.csv', index = False)"
   ]
  },
  {
   "cell_type": "code",
   "execution_count": 24,
   "id": "b6693e6c",
   "metadata": {},
   "outputs": [
    {
     "data": {
      "text/plain": [
       "50"
      ]
     },
     "execution_count": 24,
     "metadata": {},
     "output_type": "execute_result"
    }
   ],
   "source": [
    "# CRIA CONEXÃO COM O BANCO DE DADOS SQLite3\n",
    "def create_connection(db_file):\n",
    "    conn = None\n",
    "    try:\n",
    "        conn = sqlite3.connect(db_file)\n",
    "    except Error as e:\n",
    "        print(e)\n",
    "    return conn\n",
    "\n",
    "conn = create_connection('scraping.db')\n",
    "\n",
    "# CONVERTE O DATAFRAME EM UMA TABELA DO SQLITE3\n",
    "df.to_sql(name = 'pastebin', index = False, con = conn, if_exists = 'append') # if_exists ('fail', 'replace' or 'append')"
   ]
  },
  {
   "cell_type": "code",
   "execution_count": 25,
   "id": "e3b3a87d",
   "metadata": {},
   "outputs": [],
   "source": [
    "# FECHA CONEXÃO COM BANCO\n",
    "conn.close()"
   ]
  },
  {
   "cell_type": "code",
   "execution_count": null,
   "id": "43f029fd",
   "metadata": {},
   "outputs": [],
   "source": []
  }
 ],
 "metadata": {
  "kernelspec": {
   "display_name": "Python 3 (ipykernel)",
   "language": "python",
   "name": "python3"
  },
  "language_info": {
   "codemirror_mode": {
    "name": "ipython",
    "version": 3
   },
   "file_extension": ".py",
   "mimetype": "text/x-python",
   "name": "python",
   "nbconvert_exporter": "python",
   "pygments_lexer": "ipython3",
   "version": "3.8.13"
  }
 },
 "nbformat": 4,
 "nbformat_minor": 5
}
