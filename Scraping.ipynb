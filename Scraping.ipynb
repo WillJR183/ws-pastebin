{
 "cells": [
  {
   "cell_type": "markdown",
   "id": "b1e61a8f",
   "metadata": {},
   "source": [
    "## Bibliotecas Necessárias"
   ]
  },
  {
   "cell_type": "code",
   "execution_count": 1,
   "id": "7af747f6",
   "metadata": {},
   "outputs": [],
   "source": [
    "import re\n",
    "import os\n",
    "import sqlite3\n",
    "import requests\n",
    "import pandas as pd\n",
    "\n",
    "from bs4 import BeautifulSoup\n",
    "from time import time\n",
    "from datetime import datetime"
   ]
  },
  {
   "cell_type": "markdown",
   "id": "397e291a",
   "metadata": {},
   "source": [
    "## Conexão com DB SQLite3"
   ]
  },
  {
   "cell_type": "code",
   "execution_count": 2,
   "id": "d06b9c9d",
   "metadata": {},
   "outputs": [],
   "source": [
    "def create_connection(db_file):\n",
    "    conn = None\n",
    "    try:\n",
    "        conn = sqlite3.connect(db_file)\n",
    "    except Error as e:\n",
    "        print(e)\n",
    "    return conn"
   ]
  },
  {
   "cell_type": "markdown",
   "id": "e467cad9",
   "metadata": {},
   "source": [
    "## Scraper > Dados no DataFrame > Exportando CSV > Inserindo no DB SQLite3"
   ]
  },
  {
   "cell_type": "code",
   "execution_count": 3,
   "id": "2598bc6a",
   "metadata": {},
   "outputs": [
    {
     "name": "stdout",
     "output_type": "stream",
     "text": [
      "Extraindo dados:  https://pastebin.com/archive/python\n",
      "Extraindo dados:  https://pastebin.com/archive/java\n",
      "Extraindo dados:  https://pastebin.com/archive/javascript\n",
      "Extraindo dados:  https://pastebin.com/archive/c\n",
      "Extraindo dados:  https://pastebin.com/archive/html4strict\n",
      "Extraindo dados:  https://pastebin.com/archive/php\n",
      "Extraindo dados:  https://pastebin.com/archive/lua\n"
     ]
    }
   ],
   "source": [
    "base_url = 'https://pastebin.com' # main page\n",
    "url_all = 'https://pastebin.com/archive' # list all pastes\n",
    "\n",
    "list_lang = ['python','java','javascript','c','html4strict','php','lua']\n",
    "\n",
    "for lang in list_lang:\n",
    "    url_lang = f'https://pastebin.com/archive/{lang}' # specific search lang\n",
    "    response = requests.get(url_lang)\n",
    "    \n",
    "    soup = BeautifulSoup(response.content, 'html.parser')\n",
    "    table = soup.find('table', class_=\"maintable\")\n",
    "\n",
    "    url_list = []\n",
    "    print('Extraindo dados: ', url_lang)\n",
    "    \n",
    "    for link in table.select('tbody tr td span ~ a'):\n",
    "        item_link = base_url + link.get('href')\n",
    "        raw_link = base_url + link.get('href')\n",
    "\n",
    "        response = requests.get(raw_link)\n",
    "        all_text = response.text\n",
    "\n",
    "        text_processed = re.sub('[^A-Za-z0-9]+', ' ', all_text)  \n",
    "\n",
    "        text_splitted = text_processed.split()\n",
    "        word_count = len(text_splitted)\n",
    "\n",
    "        unique_text = set(text_splitted)\n",
    "        word_diff_count = len(unique_text)\n",
    "\n",
    "        response = requests.get(base_url + link.get('href'))\n",
    "        soup = BeautifulSoup(response.content, 'html.parser')\n",
    "\n",
    "        search = soup.select_one('div.highlighted-code > div.top-buttons > div.left > a')\n",
    "        syntax = search.text\n",
    "\n",
    "        now = time()\n",
    "        now_time = datetime.utcfromtimestamp(now).strftime('%Y-%m-%d %H:%M:%S')\n",
    "\n",
    "        url_list.append([item_link, word_count, word_diff_count, syntax, now_time])\n",
    "        \n",
    "    df = pd.DataFrame(data = url_list, columns = ['page_link', 'word_count', 'word_diff_count', 'syntax' ,'pickup_time'])\n",
    "        \n",
    "    df.to_csv('data_scraping.csv', index = False, mode = 'a', header = not os.path.exists('data_scraping.csv'))\n",
    "\n",
    "    conn = create_connection('scraping.db')\n",
    "        \n",
    "    df.to_sql(name = 'pastebin', index = False, con = conn, if_exists = 'append')\n",
    "        \n",
    "    conn.close()"
   ]
  }
 ],
 "metadata": {
  "kernelspec": {
   "display_name": "Python 3 (ipykernel)",
   "language": "python",
   "name": "python3"
  },
  "language_info": {
   "codemirror_mode": {
    "name": "ipython",
    "version": 3
   },
   "file_extension": ".py",
   "mimetype": "text/x-python",
   "name": "python",
   "nbconvert_exporter": "python",
   "pygments_lexer": "ipython3",
   "version": "3.8.13"
  }
 },
 "nbformat": 4,
 "nbformat_minor": 5
}
